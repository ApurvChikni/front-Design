{
  "nbformat": 4,
  "nbformat_minor": 0,
  "metadata": {
    "colab": {
      "name": "Krupesh.ipynb",
      "provenance": [],
      "authorship_tag": "ABX9TyOlFlruki9izoHXzQ/jhkhB",
      "include_colab_link": true
    },
    "kernelspec": {
      "name": "python3",
      "display_name": "Python 3"
    },
    "language_info": {
      "name": "python"
    }
  },
  "cells": [
    {
      "cell_type": "markdown",
      "metadata": {
        "id": "view-in-github",
        "colab_type": "text"
      },
      "source": [
        "<a href=\"https://colab.research.google.com/github/ApurvChikni/front-Design/blob/main/Krupesh.ipynb\" target=\"_parent\"><img src=\"https://colab.research.google.com/assets/colab-badge.svg\" alt=\"Open In Colab\"/></a>"
      ]
    },
    {
      "cell_type": "markdown",
      "source": [
        "# Best of luck"
      ],
      "metadata": {
        "id": "KuA6ZRtAA3zT"
      }
    },
    {
      "cell_type": "markdown",
      "source": [
        "# For installing any library enter below command\n",
        "\n",
        "\n",
        "```\n",
        "!pip install (library name)\n",
        "```\n",
        "\n"
      ],
      "metadata": {
        "id": "EOmWaAV1pmoB"
      }
    },
    {
      "cell_type": "code",
      "execution_count": null,
      "metadata": {
        "id": "RQW92G9FlrJP"
      },
      "outputs": [],
      "source": [
        "!pip install pandas"
      ]
    },
    {
      "cell_type": "markdown",
      "source": [
        "# Find Mean, Median, Mode\n",
        "\n",
        "Mean:\n",
        "avrage of a given value\n",
        "\n",
        "Median:\n",
        "middle element or avrage of an middle element\n",
        "\n",
        "Mode:\n",
        " maximum number of occurrences for any number\n",
        "\n",
        " Find for following two inputs:\n",
        "\n",
        "\n",
        "```\n",
        "64630 11735 14216 99233 14470 4978 73429 38120 51135 67060\n",
        "\n",
        "4978 14216 14470 38120 51135 64630 67060 73429 99233 \n",
        "```\n",
        "\n"
      ],
      "metadata": {
        "id": "sJ22V2GQ-AEd"
      }
    },
    {
      "cell_type": "code",
      "source": [
        ""
      ],
      "metadata": {
        "id": "2GD1hRYU_H9t"
      },
      "execution_count": null,
      "outputs": []
    },
    {
      "cell_type": "code",
      "source": [
        ""
      ],
      "metadata": {
        "id": "HS50XsDs_ILd"
      },
      "execution_count": null,
      "outputs": []
    },
    {
      "cell_type": "code",
      "source": [
        ""
      ],
      "metadata": {
        "id": "p_qkF-vM_IV8"
      },
      "execution_count": null,
      "outputs": []
    },
    {
      "cell_type": "markdown",
      "source": [
        "# Find Commun substring\n",
        "\n",
        "as it says you have to find just commun string which is commun in two strings:\n",
        "\n",
        "EX;\n",
        "\n",
        "\n",
        "```\n",
        "I\\P:\n",
        "xbyte technolabs\n",
        "technology of kilobytes\n",
        "```\n",
        "\n",
        "Note:\n",
        "You have to find biggest commun substring.\n",
        "\n",
        "and if you can find all the commun substring that will be in plus.\n",
        "\n",
        "```\n",
        "O\\P:\n",
        "\n",
        "technol\n",
        "```\n",
        "\n",
        "\n"
      ],
      "metadata": {
        "id": "bxdlP5KU_M5V"
      }
    },
    {
      "cell_type": "code",
      "source": [
        ""
      ],
      "metadata": {
        "id": "X5xR7T2YAsSe"
      },
      "execution_count": null,
      "outputs": []
    },
    {
      "cell_type": "code",
      "source": [
        ""
      ],
      "metadata": {
        "id": "wmNsPocGAsYW"
      },
      "execution_count": null,
      "outputs": []
    },
    {
      "cell_type": "code",
      "source": [
        ""
      ],
      "metadata": {
        "id": "K_Zzro_hAseG"
      },
      "execution_count": null,
      "outputs": []
    },
    {
      "cell_type": "markdown",
      "source": [
        "# Find a diffrent binary string \n",
        "You are given **N** binary strings of length **N** each. You need to find a binary string of length **N** which is **different** from **all** of the given strings. And there are **K** test cases.\n",
        "For Ex. K = 2 and N = 3 and 4\n",
        "```\n",
        "sample input:\n",
        "2\n",
        "3\n",
        "101\n",
        "110\n",
        "100\n",
        "4\n",
        "1100\n",
        "1010\n",
        "0100\n",
        "0010\n",
        "```\n",
        "explaination,\n",
        "first line consisit of K i.e. 2 number of test cases and for each test case their is diffrent **N** and every test cases first line consist of **N** and following **N** line consist of binary string of length **N**.\n",
        "\n",
        "So the task is to find a diffrent binary string for each test cases which is not already present in input.\n",
        "i.e.\n",
        "\n",
        "```\n",
        "Expected output:\n",
        "001   (for 1st test case)\n",
        "0001  (for 2nd test case)\n",
        "```\n",
        "NOTE:\n",
        "A string is considered different from another string when they differ in at least one position.\n",
        "\n",
        "\n"
      ],
      "metadata": {
        "id": "RcyHl6wylseW"
      }
    },
    {
      "cell_type": "code",
      "source": [
        ""
      ],
      "metadata": {
        "id": "Vroh69MZphrf"
      },
      "execution_count": null,
      "outputs": []
    },
    {
      "cell_type": "code",
      "source": [
        ""
      ],
      "metadata": {
        "id": "eBYrg4_-pixp"
      },
      "execution_count": null,
      "outputs": []
    },
    {
      "cell_type": "code",
      "source": [
        ""
      ],
      "metadata": {
        "id": "T0wzbtbupi8Y"
      },
      "execution_count": null,
      "outputs": []
    },
    {
      "cell_type": "markdown",
      "source": [
        "# Upgraded 3D coordinate task\n",
        "\n",
        "As an input you have a four variables X,Y,Z,N respectively\n",
        "X,Y,Z is a range of cordinates \n",
        "for ex.\n",
        "suppose x=1,y=1,z=2 and n = 3 In this case the task is to find all possible cordinates where x+y+z does not equals to 3.\n",
        "\n",
        "Sample input:\n",
        "\n",
        "\n",
        "```\n",
        "1\n",
        "1\n",
        "1\n",
        "2\n",
        "```\n",
        "\n",
        "all posible cordinates:\n",
        "\n",
        "```\n",
        "(0, 0, 0) (0, 0, 1) (0, 0, 2) (0, 1, 0) (0, 1, 1) (0, 1, 2) (1, 0, 0) (1, 0, 1) (1, 0, 2) (1, 1, 0) (1, 1, 1) (1, 1, 2)\n",
        "```\n",
        "\n",
        "Expected output cordinates/sample output:\n",
        "\n",
        "```\n",
        "(0, 0, 0) (0, 0, 1) (0, 0, 2) (0, 1, 0) (0, 1, 1) (1, 0, 0) (1, 0, 1) (1, 1, 0) (1, 1, 2)\n",
        "```\n",
        "\n",
        "\n",
        "\n"
      ],
      "metadata": {
        "id": "OWWmfCw8qZwj"
      }
    },
    {
      "cell_type": "code",
      "source": [
        ""
      ],
      "metadata": {
        "id": "HxmENRbitu2p"
      },
      "execution_count": null,
      "outputs": []
    },
    {
      "cell_type": "code",
      "source": [
        ""
      ],
      "metadata": {
        "id": "HKHWoZ5zt3rN"
      },
      "execution_count": null,
      "outputs": []
    },
    {
      "cell_type": "code",
      "source": [
        ""
      ],
      "metadata": {
        "id": "-ZS1ptTvt3uB"
      },
      "execution_count": null,
      "outputs": []
    },
    {
      "cell_type": "markdown",
      "source": [
        "# Last Level Of Pattern\n",
        "\n",
        "You all know this problem\n",
        "\n",
        "print following pattern till **N** line:\n",
        "\n",
        "```\n",
        "I\\P:\n",
        "5\n",
        "Expected O\\P:\n",
        "1\n",
        "22\n",
        "333\n",
        "4444\n",
        "55555\n",
        "```\n",
        "constrains:\n",
        "1<= **N**<=9\n",
        "**Notes:**\n",
        "Donot use any string methods like ('5')*5\n",
        "You have just 1 for loop and two lines of code in which you have to take an input from user and print a pattern also\n",
        "Do not use ; (semi-colon) to saprate two lines into one line \n"
      ],
      "metadata": {
        "id": "1l8Xk6BHuDli"
      }
    }
  ]
}